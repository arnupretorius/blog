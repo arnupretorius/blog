{
 "cells": [
  {
   "cell_type": "markdown",
   "metadata": {},
   "source": [
    "# - How computers learn - \n",
    "## Part 1: Linear relationships"
   ]
  },
  {
   "cell_type": "markdown",
   "metadata": {},
   "source": [
    "In this series of blog posts I want to explore how a computer can learn things. "
   ]
  },
  {
   "cell_type": "markdown",
   "metadata": {},
   "source": [
    "Suppose we want a computer to learn the relationship between two things. For example (off the top of my head) how much water a watermelon plant needs, to grow one centimeter in a day (disclaimer I'm no expert on watermelons, but I'm going to make up some numbers here anyway). Lets say for every cup of water we give the plant will grow 2cm, then we can express this relationship as follows    \n",
    "\n",
    "$$y = 2x$$\n",
    "\n",
    "where $y$ is the variable output of growth in centimeters given the input $x$, *i.e.* the number of cups of water. This relationship is linear, in other words the more water we give the more growth we get (which I guess is fairly unrealistic, but lets work with this for now). "
   ]
  },
  {
   "cell_type": "code",
   "execution_count": 1,
   "metadata": {
    "collapsed": true
   },
   "outputs": [],
   "source": [
    "# import required modules\n",
    "import numpy as np\n",
    "import matplotlib.pyplot as plt\n",
    "\n",
    "# generate data with relationship y = 2x\n",
    "x = np.arange(0, 10, 1)\n",
    "y = 2*x"
   ]
  },
  {
   "cell_type": "markdown",
   "metadata": {},
   "source": [
    "Here we have expressed $y$ as a function of $x$, which we typically write as $y = f(x)$. For watermelons $f(x) = 2x$, but for potatoes $f$ could perhaps be entirely different, such as $3x/4$. To distinguish the two, we could define a new function $g$ for potatoes, such that $g(x) = 3x/4$."
   ]
  },
  {
   "cell_type": "code",
   "execution_count": 2,
   "metadata": {},
   "outputs": [
    {
     "data": {
      "image/png": "[encoded data removed]",
      "text/plain": [
       "<matplotlib.figure.Figure at 0x10ad73240>"
      ]
     },
     "metadata": {},
     "output_type": "display_data"
    }
   ],
   "source": [
    "# define function for potatoes\n",
    "g = 3*x/4\n",
    "\n",
    "# plot relationship\n",
    "plt.scatter(x, y, label='Watermelon')\n",
    "plt.scatter(x, g, label='Potato')\n",
    "plt.ylabel('Growth (cm / per day)')\n",
    "plt.xlabel('Water (cups)')\n",
    "plt.legend()\n",
    "#plt.savefig('watermelonsPlot.png', dpi=1000)\n",
    "plt.show()"
   ]
  },
  {
   "cell_type": "markdown",
   "metadata": {},
   "source": [
    "In this hypothetical scenario, the figure above shows the rate of growth for watermelons versus potatoes. Watermelons are seen to grow much faster given the same amount of water per day. \n",
    "\n",
    "Will a computer be able to learn this distinction? Or any relationship at all? In the next post, we will inject some realism into the above picture and look at observational noise and the normal distribution."
   ]
  },
  {
   "cell_type": "code",
   "execution_count": null,
   "metadata": {
    "collapsed": true
   },
   "outputs": [],
   "source": []
  }
 ],
 "metadata": {
  "kernelspec": {
   "display_name": "Python 3",
   "language": "python",
   "name": "python3"
  },
  "language_info": {
   "codemirror_mode": {
    "name": "ipython",
    "version": 3
   },
   "file_extension": ".py",
   "mimetype": "text/x-python",
   "name": "python",
   "nbconvert_exporter": "python",
   "pygments_lexer": "ipython3",
   "version": "3.6.1"
  }
 },
 "nbformat": 4,
 "nbformat_minor": 2
}
